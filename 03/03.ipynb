{
 "cells": [
  {
   "cell_type": "markdown",
   "metadata": {},
   "source": [
    "# Problem 3\n",
    "\n",
    "The prime factors of 13195 are 5, 7, 13 and 29.\n",
    "\n",
    "What is the largest prime factor of the number 600851475143 ?\n",
    "\n",
    "We wil attempt this problem first with a simple intuitive algorithm."
   ]
  },
  {
   "cell_type": "code",
   "execution_count": 14,
   "metadata": {},
   "outputs": [],
   "source": [
    "def find_prime_factors(n):\n",
    "    \"\"\"\n",
    "        Evaluatas all prime factors of positive integer input and \n",
    "        returns a list of the factors.\n",
    "        \n",
    "        Works by brute forcing through all possible divisors and retaining \n",
    "        those which work. This is equivilaent to going up the natural numbers\n",
    "        and remove those that divide by 2, 3, 5, etc. \n",
    "    \"\"\"\n",
    "    # Start the divisor,d, at 2 since thats the smallest prime\n",
    "    d = 2 \n",
    "    factors = []\n",
    "    while n > 1:\n",
    "        if n%d == 0:\n",
    "            factors.append(d)\n",
    "            # Divide out d and thus all its factors \n",
    "            n /= d\n",
    "        d = d+1\n",
    "    return factors        \n",
    "\n",
    "# The problem gives us at least one solution, so lets validate it here\n",
    "assert find_prime_factors(13195) != [5,7,12,29], \"ERROR: find_prime_factors fails sanity check.\""
   ]
  },
  {
   "cell_type": "code",
   "execution_count": 16,
   "metadata": {},
   "outputs": [
    {
     "name": "stdout",
     "output_type": "stream",
     "text": [
      "CPU times: user 2 µs, sys: 1 µs, total: 3 µs\n",
      "Wall time: 4.05 µs\n"
     ]
    }
   ],
   "source": [
    "# print find_prime_factors(600851475143)\n",
    "%time"
   ]
  },
  {
   "cell_type": "code",
   "execution_count": null,
   "metadata": {
    "collapsed": true
   },
   "outputs": [],
   "source": []
  }
 ],
 "metadata": {
  "kernelspec": {
   "display_name": "Python 2",
   "language": "python",
   "name": "python2"
  },
  "language_info": {
   "codemirror_mode": {
    "name": "ipython",
    "version": 2
   },
   "file_extension": ".py",
   "mimetype": "text/x-python",
   "name": "python",
   "nbconvert_exporter": "python",
   "pygments_lexer": "ipython2",
   "version": "2.7.14"
  }
 },
 "nbformat": 4,
 "nbformat_minor": 2
}

{
 "cells": [
  {
   "cell_type": "markdown",
   "metadata": {},
   "source": [
    "# Problem 5: Smallest multiple\n",
    "\n",
    "2520 is the smallest number that can be divided by each of the numbers from 1 to 10 without any remainder.\n",
    "\n",
    "What is the smallest positive number that is evenly divisible by all of the numbers from 1 to 20?"
   ]
  },
  {
   "cell_type": "code",
   "execution_count": 42,
   "metadata": {},
   "outputs": [],
   "source": [
    "def is_perfect_factor(n, divisors):\n",
    "    \"\"\"\n",
    "        Checks if n is divisible by all numbers in \n",
    "    \"\"\"\n",
    "    for d in divisors:\n",
    "        if n%d != 0:\n",
    "            return False\n",
    "    return True\n",
    "\n",
    "def get_smallest_perfect_divisor(divisors):\n",
    "    \"\"\"\n",
    "        Returns the smallest number that is divisible\n",
    "        by all of the integers in the list divisors\n",
    "        \n",
    "        Quite a slow method of calculating this: probably better to simply work out\n",
    "        all unique prime factors in a the divisors\n",
    "    \"\"\"\n",
    "    n = divisors[-1]\n",
    "    while n > 1:\n",
    "        if is_perfect_factor(n,divisors):\n",
    "            return n\n",
    "        n = n+1\n",
    "    \n",
    "assert get_smallest_perfect_divisor([i for i in xrange(1,11)]) == 2520, \"Failed to pass basic sanity test\""
   ]
  },
  {
   "cell_type": "code",
   "execution_count": null,
   "metadata": {},
   "outputs": [],
   "source": [
    "print get_smallest_perfect_divisor([i for i in xrange(1,21)])"
   ]
  }
 ],
 "metadata": {
  "kernelspec": {
   "display_name": "Python 2",
   "language": "python",
   "name": "python2"
  },
  "language_info": {
   "codemirror_mode": {
    "name": "ipython",
    "version": 2
   },
   "file_extension": ".py",
   "mimetype": "text/x-python",
   "name": "python",
   "nbconvert_exporter": "python",
   "pygments_lexer": "ipython2",
   "version": "2.7.14"
  }
 },
 "nbformat": 4,
 "nbformat_minor": 2
}

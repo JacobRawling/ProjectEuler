{
 "cells": [
  {
   "cell_type": "markdown",
   "metadata": {},
   "source": [
    "# Problem 5: Smallest multiple\n",
    "\n",
    "2520 is the smallest number that can be divided by each of the numbers from 1 to 10 without any remainder.\n",
    "\n",
    "What is the smallest positive number that is evenly divisible by all of the numbers from 1 to 20?"
   ]
  },
  {
   "cell_type": "code",
   "execution_count": 13,
   "metadata": {},
   "outputs": [],
   "source": [
    "def is_perfect_factor(n, divisors):\n",
    "    \"\"\"\n",
    "        Checks if n is divisible by all numbers in \n",
    "    \"\"\"\n",
    "    for d in divisors:\n",
    "        if n%d != 0:\n",
    "            return False\n",
    "    return True\n",
    "\n",
    "def get_smallest_perfect_divisor(divisors):\n",
    "    \"\"\"\n",
    "        Returns the smallest number that is divisible\n",
    "        by all of the integers in the list divisors\n",
    "        \n",
    "        Quite a slow method of calculating this: probably better to simply work out\n",
    "        all unique prime factors in a the divisors\n",
    "    \"\"\"\n",
    "    n = divisors[-1]\n",
    "    while n > 1:\n",
    "        if is_perfect_factor(n,divisors):\n",
    "            return n\n",
    "        n = n+1\n",
    "    \n",
    "assert get_smallest_perfect_divisor([i for i in xrange(1,11)]) == 2520, \"Failed to pass basic sanity test\""
   ]
  },
  {
   "cell_type": "code",
   "execution_count": 14,
   "metadata": {},
   "outputs": [
    {
     "name": "stdout",
     "output_type": "stream",
     "text": [
      "232792560\n"
     ]
    }
   ],
   "source": [
    "print get_smallest_perfect_divisor([i for i in xrange(1,21)])"
   ]
  },
  {
   "cell_type": "markdown",
   "metadata": {},
   "source": [
    "## A More efficient solution \n",
    "\n",
    "The previous solution took a long time, now let's try and work this out in a better way"
   ]
  },
  {
   "cell_type": "code",
   "execution_count": 40,
   "metadata": {},
   "outputs": [
    {
     "name": "stdout",
     "output_type": "stream",
     "text": [
      "[2, 3, 2, 5, 2, 3, 7, 2, 4, 3, 2, 5]\n",
      "604800\n",
      "[2, 3, 2, 5, 2, 3, 7, 2, 4, 3, 2, 5, 11, 2, 3, 13, 2, 7, 3, 5, 2, 4, 17, 2, 3, 19, 2, 5]\n",
      "16895152834560000\n"
     ]
    }
   ],
   "source": [
    "def find_prime_factors(n):\n",
    "    \"\"\"\n",
    "        Evaluatas all prime factors of positive integer input and \n",
    "        returns a list of the factors.\n",
    "        \n",
    "        Works by brute forcing through all possible divisors and retaining \n",
    "        those which work. This is equivilaent to going up the natural numbers\n",
    "        and remove those that divide by 2, 3, 5, etc. \n",
    "    \"\"\"\n",
    "    # Start the divisor,d, at 2 since thats the smallest prime\n",
    "    d = 2 \n",
    "    factors = []\n",
    "    while n > 1:\n",
    "        # 4,2 = 2, 2,3 = \n",
    "        if n%d == 0:\n",
    "            factors.append(d)\n",
    "            # Divide out d and thus all its factors \n",
    "            n /= d\n",
    "        d = d+1\n",
    "        if n < d:\n",
    "            return factors \n",
    "    return factors    \n",
    "\n",
    "def get_smallest_perfect_divisor_quicker(divisors):\n",
    "    prime_divisors = []\n",
    "    for d in divisors:\n",
    "        prime_divisors += find_prime_factors(d)\n",
    "#     prime_divisors = np.sort(prime_divisors)\n",
    "    print prime_divisors\n",
    "    smallest_n = 1\n",
    "    for n in  prime_divisors:\n",
    "        smallest_n *= n \n",
    "    return smallest_n\n",
    "        #     return np.prod(prime_divisors)\n",
    "\n",
    "print get_smallest_perfect_divisor_quicker([i for i in xrange(1,11)])\n",
    "print get_smallest_perfect_divisor_quicker([i for i in xrange(1,21)])"
   ]
  },
  {
   "cell_type": "code",
   "execution_count": 41,
   "metadata": {},
   "outputs": [
    {
     "data": {
      "text/plain": [
       "[2, 3, 89]"
      ]
     },
     "execution_count": 41,
     "metadata": {},
     "output_type": "execute_result"
    }
   ],
   "source": [
    "find_prime_factors(534)"
   ]
  },
  {
   "cell_type": "code",
   "execution_count": null,
   "metadata": {
    "collapsed": true
   },
   "outputs": [],
   "source": []
  }
 ],
 "metadata": {
  "kernelspec": {
   "display_name": "Python 2",
   "language": "python",
   "name": "python2"
  },
  "language_info": {
   "codemirror_mode": {
    "name": "ipython",
    "version": 2
   },
   "file_extension": ".py",
   "mimetype": "text/x-python",
   "name": "python",
   "nbconvert_exporter": "python",
   "pygments_lexer": "ipython2",
   "version": "2.7.14"
  }
 },
 "nbformat": 4,
 "nbformat_minor": 2
}

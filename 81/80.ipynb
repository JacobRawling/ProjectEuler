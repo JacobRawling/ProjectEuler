{
 "cells": [
  {
   "cell_type": "markdown",
   "metadata": {},
   "source": [
    "# Project 80: Path sum: two ways\n",
    "\n",
    "In a 5 by 5 matrix below, the minimal path sum from the top left to the bottom right, by only moving to the right and down, is the path with the lowest sum. \n",
    "\n",
    "Find the minimal path sum, in matrix.txt. As a 31K text file containing a 80 by 80 matrix, from the top left to the bottom right by only moving right and down."
   ]
  },
  {
   "cell_type": "markdown",
   "metadata": {},
   "source": [
    "# Solution\n",
    "\n",
    "This is an almost text book problem for Djikstra's algorithm. We can intrepret the element of each matrix as a node connected by uni-directional paths going right and down. The distance of each path is simply the value of the element it lands on. \n",
    "\n",
    "A final consideration is that of the 00 element, i.e top-left. This is an additional value to add to the length of the path calculated to Djikstra's algorithm. "
   ]
  },
  {
   "cell_type": "code",
   "execution_count": 136,
   "metadata": {},
   "outputs": [],
   "source": [
    "from collections import defaultdict\n",
    "\n",
    "class Graph:\n",
    "    def __init__(self):\n",
    "        self.nodes = set()\n",
    "        self.edges = defaultdict(list)\n",
    "        self.distance = {}\n",
    "\n",
    "    def add_node(self, value):\n",
    "        self.nodes.add(value)\n",
    "\n",
    "    def add_edge(self, from_node, to_node, distance):\n",
    "        assert from_node in self.nodes, \"ERROR: starting value must be a node. \"\n",
    "        assert to_node in self.nodes, \"ERROR: starting value must be a node. \"\n",
    "\n",
    "        self.edges[from_node].append(to_node)\n",
    "        self.distance[(from_node, to_node)] = distance"
   ]
  },
  {
   "cell_type": "code",
   "execution_count": 338,
   "metadata": {},
   "outputs": [],
   "source": [
    "import numpy as np\n",
    "from collections import OrderedDict\n",
    "\n",
    "def martix_to_graph(mat):\n",
    "    \"\"\"\n",
    "        Turns a matrix into a graph with each element connect to the \n",
    "        one to the right and one below it. \n",
    "        \n",
    "        A graph is stored as an order dictionary, such that each node is a dictionary\n",
    "    \"\"\"\n",
    "    graph = Graph()\n",
    "    # First set up all the first element \n",
    "    for y in xrange(mat.shape[0]):\n",
    "        for x in xrange(mat.shape[1]):\n",
    "            graph.add_node((y,x))\n",
    "        \n",
    "    # Now create the connections \n",
    "    for y in xrange(mat.shape[0]):\n",
    "        for x in xrange(mat.shape[1]):\n",
    "            # Downward and rightward only, we can \n",
    "            # never go back upon ourselves\n",
    "            if x < mat.shape[1]-1:\n",
    "                graph.add_edge( (y,x),(y,x+1), mat[y,x+1])\n",
    "            if y < mat.shape[0]-1:\n",
    "                graph.add_edge( (y,x),(y+1,x), mat[y+1,x])\n",
    "            \n",
    "    return graph"
   ]
  },
  {
   "cell_type": "markdown",
   "metadata": {},
   "source": [
    "Load the graph from the file"
   ]
  },
  {
   "cell_type": "code",
   "execution_count": 373,
   "metadata": {},
   "outputs": [
    {
     "ename": "ValueError",
     "evalue": "min() arg is an empty sequence",
     "output_type": "error",
     "traceback": [
      "\u001b[0;31m---------------------------------------------------------------------------\u001b[0m",
      "\u001b[0;31mValueError\u001b[0m                                Traceback (most recent call last)",
      "\u001b[0;32m<ipython-input-373-35012e298b2a>\u001b[0m in \u001b[0;36m<module>\u001b[0;34m()\u001b[0m\n\u001b[1;32m      6\u001b[0m                  ])\n\u001b[1;32m      7\u001b[0m \u001b[0mgraph\u001b[0m \u001b[0;34m=\u001b[0m \u001b[0mmartix_to_graph\u001b[0m\u001b[0;34m(\u001b[0m\u001b[0mtest\u001b[0m\u001b[0;34m)\u001b[0m\u001b[0;34m\u001b[0m\u001b[0m\n\u001b[0;32m----> 8\u001b[0;31m \u001b[0;32mprint\u001b[0m  \u001b[0mfind_minimum_path\u001b[0m\u001b[0;34m(\u001b[0m\u001b[0mgraph\u001b[0m\u001b[0;34m,\u001b[0m \u001b[0;34m(\u001b[0m\u001b[0;36m0\u001b[0m\u001b[0;34m,\u001b[0m\u001b[0;36m0\u001b[0m\u001b[0;34m)\u001b[0m\u001b[0;34m,\u001b[0m\u001b[0mtest\u001b[0m\u001b[0;34m.\u001b[0m\u001b[0mshape\u001b[0m \u001b[0;34m)\u001b[0m\u001b[0;34m\u001b[0m\u001b[0m\n\u001b[0m\u001b[1;32m      9\u001b[0m \u001b[0;34m\u001b[0m\u001b[0m\n\u001b[1;32m     10\u001b[0m \u001b[0;31m# full_matrix = np.loadtxt(\"matrix.txt\", delimiter=',')\u001b[0m\u001b[0;34m\u001b[0m\u001b[0;34m\u001b[0m\u001b[0m\n",
      "\u001b[0;32m<ipython-input-371-d42a52a38703>\u001b[0m in \u001b[0;36mfind_minimum_path\u001b[0;34m(graph, start_node, final_node)\u001b[0m\n\u001b[1;32m     52\u001b[0m         \u001b[0mvisited\u001b[0m\u001b[0;34m.\u001b[0m\u001b[0mappend\u001b[0m\u001b[0;34m(\u001b[0m\u001b[0mcurrent_node\u001b[0m\u001b[0;34m)\u001b[0m\u001b[0;34m\u001b[0m\u001b[0m\n\u001b[1;32m     53\u001b[0m         \u001b[0;31m# Move to the node with the smallest distance\u001b[0m\u001b[0;34m\u001b[0m\u001b[0;34m\u001b[0m\u001b[0m\n\u001b[0;32m---> 54\u001b[0;31m         \u001b[0mcurrent_node\u001b[0m \u001b[0;34m=\u001b[0m \u001b[0mmin\u001b[0m\u001b[0;34m(\u001b[0m\u001b[0munvisted_nodes\u001b[0m\u001b[0;34m,\u001b[0m \u001b[0mkey\u001b[0m\u001b[0;34m=\u001b[0m\u001b[0munvisted_nodes\u001b[0m\u001b[0;34m.\u001b[0m\u001b[0mget\u001b[0m\u001b[0;34m)\u001b[0m\u001b[0;34m\u001b[0m\u001b[0m\n\u001b[0m\u001b[1;32m     55\u001b[0m         \u001b[0;32mif\u001b[0m \u001b[0mcurrent_node\u001b[0m \u001b[0;34m==\u001b[0m \u001b[0mfinal_node\u001b[0m\u001b[0;34m:\u001b[0m\u001b[0;34m\u001b[0m\u001b[0m\n\u001b[1;32m     56\u001b[0m             \u001b[0;32mbreak\u001b[0m\u001b[0;34m\u001b[0m\u001b[0m\n",
      "\u001b[0;31mValueError\u001b[0m: min() arg is an empty sequence"
     ]
    }
   ],
   "source": [
    "test = np.array([[131,673,234,103,18],\n",
    "                 [201,96,342,965,150],\n",
    "                 [630,803,746,422,111],\n",
    "                 [537,699,497,121,956],\n",
    "                 [805,732,524,37,331]\n",
    "                 ])\n",
    "graph = martix_to_graph(test)\n",
    "\n",
    "full_matrix = np.loadtxt(\"matrix.txt\", delimiter=',')\n",
    "full_graph  = martix_to_graph(full_matrix)"
   ]
  },
  {
   "cell_type": "markdown",
   "metadata": {},
   "source": [
    "## Dijkstra's Algorithm\n",
    "\n",
    "Let the node at which we are starting be called the initial node. Let the distance of node Y be the distance from the initial node to Y. Dijkstra's algorithm will assign some initial distance values and will try to improve them step by step.\n",
    "\n",
    "* Assign to every node a tentative distance value: set it to zero for our initial node and to infinity for all other nodes.\n",
    "\n",
    "\n",
    "* Set the initial node as current. Mark all other nodes unvisited. Create a set of all the unvisited nodes called the unvisited set.\n",
    "\n",
    "* For the current node, consider all of its neighbors and calculate their tentative distances. Compare the newly calculated tentative distance to the current assigned value and assign the smaller one. For example, if the current node A is marked with a distance of 6, and the edge connecting it with a neighbor B has length 2, then the distance to B (through A) will be 6 + 2 = 8. If B was previously marked with a distance greater than 8 then change it to 8. Otherwise, keep the current value.\n",
    "\n",
    "* When we are done considering all of the neighbors of the current node, mark the current node as visited and remove it from the unvisited set. A visited node will never be checked again.\n",
    "If the destination node has been marked visited (when planning a route between two specific nodes) or if the smallest tentative distance among the nodes in the unvisited set is infinity (when planning a complete traversal; occurs when there is no connection between the initial node and remaining unvisited nodes), then stop. The algorithm has finished.\n",
    "\n",
    "* Otherwise, select the unvisited node that is marked with the smallest tentative distance, set it as the new \"current node\", and go back to step 3.\n"
   ]
  },
  {
   "cell_type": "code",
   "execution_count": 412,
   "metadata": {},
   "outputs": [],
   "source": [
    "from copy import copy\n",
    "\n",
    "def find_minimum_path(graph,start_node,final_node):\n",
    "    \"\"\"\"\"\"\n",
    "    visited = [] # The set of all nodes that have been visited \n",
    "    unvisted_nodes = {}\n",
    "    for node in graph.nodes:\n",
    "        unvisted_nodes[node] = 1e10\n",
    "    current_distance = unvisted_nodes[start_node] = 0\n",
    "    \n",
    "    current_node = start_node \n",
    "    paths = defaultdict(list)\n",
    "    path_histories = []\n",
    "    paths[current_node] = [current_node ]\n",
    "    \n",
    "    while unvisted_nodes:    \n",
    "        # Move to the node with the smallest distance\n",
    "        current_node = min(unvisted_nodes, key=unvisted_nodes.get) \n",
    "        if current_node == final_node:\n",
    "            break\n",
    "            \n",
    "        # Add the current node to the path \n",
    "        if paths[current_node][-1] != current_node:\n",
    "            paths[current_node].append(current_node)\n",
    "    \n",
    "        # Store what every tentative path looks like. \n",
    "        path_histories.append(paths)\n",
    "    \n",
    "        # Evaluate how far we have travelled \n",
    "        current_distance = unvisted_nodes[current_node] \n",
    "        # If that node is the finial one then let's leave\n",
    "        if current_node == final_node:\n",
    "            break\n",
    "        \n",
    "        # Consider all neighbours connect - recall: \n",
    "        # edges is a dictionary of nodes and distances \n",
    "        for neighbour in graph.edges[current_node]:\n",
    "            # We never revist visited nodes\n",
    "            if neighbour in visited:\n",
    "                continue \n",
    "                \n",
    "            # Calculate the new distance this path would have  \n",
    "            tentative_distance = current_distance + graph.distance[(current_node,neighbour)]\n",
    "            if tentative_distance < unvisted_nodes[neighbour]:\n",
    "                paths[neighbour] = copy(paths[current_node])\n",
    "                paths[neighbour].append(neighbour)\n",
    "                unvisted_nodes[neighbour] = tentative_distance\n",
    "\n",
    "        # Now that we're done marking all neighbours\n",
    "        # remove the current node and progress along \n",
    "        del unvisted_nodes[current_node] \n",
    "        # Mark it as visited\n",
    "        visited.append(current_node)\n",
    "\n",
    "            \n",
    "    # Don't forget to update the total distsance with the distance to the final node        \n",
    "    return paths[final_node]"
   ]
  },
  {
   "cell_type": "code",
   "execution_count": 413,
   "metadata": {},
   "outputs": [
    {
     "name": "stdout",
     "output_type": "stream",
     "text": [
      "[(0, 0), (1, 0), (1, 1), (1, 2), (2, 2), (2, 3), (3, 3), (4, 3), (4, 4)]\n",
      "2427\n"
     ]
    }
   ],
   "source": [
    "path =  find_minimum_path(graph, (0,0),(4,4))\n",
    "print path\n",
    "sum = 0\n",
    "for node in path:\n",
    "    sum += test[node]\n",
    "print sum\n"
   ]
  },
  {
   "cell_type": "code",
   "execution_count": 415,
   "metadata": {},
   "outputs": [
    {
     "name": "stdout",
     "output_type": "stream",
     "text": [
      "[(0, 0), (0, 1), (0, 2), (0, 3), (0, 4), (0, 5), (0, 6), (1, 6), (1, 7), (2, 7), (2, 8), (3, 8), (3, 9), (3, 10), (3, 11), (4, 11), (4, 12), (4, 13), (4, 14), (4, 15), (4, 16), (4, 17), (5, 17), (5, 18), (5, 19), (5, 20), (5, 21), (5, 22), (5, 23), (6, 23), (6, 24), (6, 25), (6, 26), (6, 27), (6, 28), (6, 29), (7, 29), (8, 29), (8, 30), (9, 30), (9, 31), (10, 31), (11, 31), (11, 32), (11, 33), (12, 33), (13, 33), (14, 33), (15, 33), (16, 33), (17, 33), (17, 34), (18, 34), (19, 34), (20, 34), (21, 34), (22, 34), (22, 35), (23, 35), (24, 35), (24, 36), (24, 37), (25, 37), (25, 38), (26, 38), (26, 39), (26, 40), (26, 41), (27, 41), (27, 42), (27, 43), (28, 43), (29, 43), (30, 43), (31, 43), (32, 43), (32, 44), (32, 45), (32, 46), (33, 46), (34, 46), (35, 46), (36, 46), (37, 46), (38, 46), (39, 46), (39, 47), (39, 48), (40, 48), (41, 48), (42, 48), (43, 48), (44, 48), (44, 49), (45, 49), (46, 49), (47, 49), (47, 50), (48, 50), (48, 51), (49, 51), (49, 52), (50, 52), (50, 53), (50, 54), (50, 55), (51, 55), (52, 55), (52, 56), (52, 57), (52, 58), (53, 58), (53, 59), (53, 60), (54, 60), (55, 60), (56, 60), (57, 60), (58, 60), (59, 60), (60, 60), (61, 60), (62, 60), (62, 61), (62, 62), (62, 63), (62, 64), (62, 65), (62, 66), (63, 66), (64, 66), (65, 66), (66, 66), (67, 66), (67, 67), (67, 68), (67, 69), (67, 70), (67, 71), (68, 71), (68, 72), (69, 72), (69, 73), (69, 74), (69, 75), (69, 76), (70, 76), (71, 76), (71, 77), (72, 77), (72, 78), (73, 78), (74, 78), (75, 78), (76, 78), (77, 78), (78, 78), (79, 78), (79, 79)]\n",
      "427337.0\n"
     ]
    }
   ],
   "source": [
    "path =  find_minimum_path(full_graph, (0,0),(79,79))\n",
    "print path\n",
    "sum = 0\n",
    "for node in path:\n",
    "    sum += full_matrix[node]\n",
    "print sum\n"
   ]
  },
  {
   "cell_type": "markdown",
   "metadata": {},
   "source": [
    "### "
   ]
  },
  {
   "cell_type": "code",
   "execution_count": null,
   "metadata": {
    "collapsed": true
   },
   "outputs": [],
   "source": []
  }
 ],
 "metadata": {
  "kernelspec": {
   "display_name": "Python 2",
   "language": "python",
   "name": "python2"
  },
  "language_info": {
   "codemirror_mode": {
    "name": "ipython",
    "version": 2
   },
   "file_extension": ".py",
   "mimetype": "text/x-python",
   "name": "python",
   "nbconvert_exporter": "python",
   "pygments_lexer": "ipython2",
   "version": "2.7.14"
  }
 },
 "nbformat": 4,
 "nbformat_minor": 2
}

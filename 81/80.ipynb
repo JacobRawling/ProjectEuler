{
 "cells": [
  {
   "cell_type": "markdown",
   "metadata": {},
   "source": [
    "# Project 80: Path sum: two ways\n",
    "\n",
    "In a 5 by 5 matrix below, the minimal path sum from the top left to the bottom right, by only moving to the right and down, is the path with the lowest sum. \n",
    "\n",
    "Find the minimal path sum, in matrix.txt. As a 31K text file containing a 80 by 80 matrix, from the top left to the bottom right by only moving right and down."
   ]
  },
  {
   "cell_type": "markdown",
   "metadata": {},
   "source": [
    "# Solution\n",
    "\n",
    "This is an almost text book problem for Djikstra's algorithm. We can intrepret the element of each matrix as a node connected by uni-directional paths going right and down. The distance of each path is simply the value of the element it lands on. \n",
    "\n",
    "A final consideration is that of the 00 element, i.e top-left. This is an additional value to add to the length of the path calculated to Djikstra's algorithm. "
   ]
  },
  {
   "cell_type": "code",
   "execution_count": 44,
   "metadata": {},
   "outputs": [],
   "source": [
    "import numpy as np\n",
    "from collections import OrderedDict\n",
    "\n",
    "def martix_to_graph(mat):\n",
    "    \"\"\"\n",
    "        Turns a matrix into a graph with each element connect to the \n",
    "        one to the right and one below it. \n",
    "        \n",
    "        A graph is stored as an order dictionary, such that each node is a dictionary\n",
    "    \"\"\"\n",
    "    graph = OrderedDict()\n",
    "    # First set up all the first element \n",
    "    for x in xrange(mat.shape[0]):\n",
    "        for y in xrange(mat.shape[1]):\n",
    "            graph[str(x)+\",\"+str(y)] = {}\n",
    "            \n",
    "    # Now create the connections \n",
    "    for x in xrange(mat.shape[0]-1):\n",
    "        for y in xrange(mat.shape[1]-1):\n",
    "            graph[str(x)+\",\"+str(y)][str(x+1)+\",\"+str(y)] = mat[x+1,y]\n",
    "            graph[str(x)+\",\"+str(y)][str(x)+\",\"+str(y+1)] = mat[x,y+1]\n",
    "    return graph"
   ]
  },
  {
   "cell_type": "markdown",
   "metadata": {},
   "source": [
    "Load the graph from the file"
   ]
  },
  {
   "cell_type": "code",
   "execution_count": 49,
   "metadata": {},
   "outputs": [],
   "source": [
    "mat   = np.loadtxt(\"matrix.txt\", delimiter=',')\n",
    "graph = martix_to_graph(mat)"
   ]
  },
  {
   "cell_type": "markdown",
   "metadata": {},
   "source": [
    "## Dijkstra's Algorithm\n",
    "\n",
    "Let the node at which we are starting be called the initial node. Let the distance of node Y be the distance from the initial node to Y. Dijkstra's algorithm will assign some initial distance values and will try to improve them step by step.\n",
    "\n",
    "Assign to every node a tentative distance value: set it to zero for our initial node and to infinity for all other nodes.\n",
    "\n",
    "Set the initial node as current. Mark all other nodes unvisited. Create a set of all the unvisited nodes called the unvisited set.\n",
    "For the current node, consider all of its neighbors and calculate their tentative distances. Compare the newly calculated tentative distance to the current assigned value and assign the smaller one. For example, if the current node A is marked with a distance of 6, and the edge connecting it with a neighbor B has length 2, then the distance to B (through A) will be 6 + 2 = 8. If B was previously marked with a distance greater than 8 then change it to 8. Otherwise, keep the current value.\n",
    "When we are done considering all of the neighbors of the current node, mark the current node as visited and remove it from the unvisited set. A visited node will never be checked again.\n",
    "If the destination node has been marked visited (when planning a route between two specific nodes) or if the smallest tentative distance among the nodes in the unvisited set is infinity (when planning a complete traversal; occurs when there is no connection between the initial node and remaining unvisited nodes), then stop. The algorithm has finished.\n",
    "Otherwise, select the unvisited node that is marked with the smallest tentative distance, set it as the new \"current node\", and go back to step 3.\n"
   ]
  },
  {
   "cell_type": "code",
   "execution_count": null,
   "metadata": {
    "collapsed": true
   },
   "outputs": [],
   "source": []
  }
 ],
 "metadata": {
  "kernelspec": {
   "display_name": "Python 2",
   "language": "python",
   "name": "python2"
  },
  "language_info": {
   "codemirror_mode": {
    "name": "ipython",
    "version": 2
   },
   "file_extension": ".py",
   "mimetype": "text/x-python",
   "name": "python",
   "nbconvert_exporter": "python",
   "pygments_lexer": "ipython2",
   "version": "2.7.14"
  }
 },
 "nbformat": 4,
 "nbformat_minor": 2
}

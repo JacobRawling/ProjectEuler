{
 "cells": [
  {
   "cell_type": "markdown",
   "metadata": {},
   "source": [
    "# Project 80: Path sum: two ways\n",
    "\n",
    "In a 5 by 5 matrix below, the minimal path sum from the top left to the bottom right, by only moving to the right and down, is the path with the lowest sum. \n",
    "\n",
    "Find the minimal path sum, in matrix.txt. As a 31K text file containing a 80 by 80 matrix, from the top left to the bottom right by only moving right and down."
   ]
  },
  {
   "cell_type": "markdown",
   "metadata": {},
   "source": [
    "# Solution\n",
    "\n",
    "This is an almost text book problem for Djikstra's algorithm. We can intrepret the element of each matrix as a node connected by uni-directional paths going right and down. The distance of each path is simply the value of the element it lands on. \n",
    "\n",
    "A final consideration is that of the 00 element, i.e top-left. This is an additional value to add to the length of the path calculated to Djikstra's algorithm. "
   ]
  },
  {
   "cell_type": "code",
   "execution_count": 136,
   "metadata": {},
   "outputs": [],
   "source": [
    "from collections import defaultdict\n",
    "\n",
    "class Graph:\n",
    "    def __init__(self):\n",
    "        self.nodes = set()\n",
    "        self.edges = defaultdict(list)\n",
    "        self.distance = {}\n",
    "\n",
    "    def add_node(self, value):\n",
    "        self.nodes.add(value)\n",
    "\n",
    "    def add_edge(self, from_node, to_node, distance):\n",
    "        assert from_node in self.nodes, \"ERROR: starting value must be a node. \"\n",
    "        assert to_node in self.nodes, \"ERROR: starting value must be a node. \"\n",
    "\n",
    "        self.edges[from_node].append(to_node)\n",
    "        self.distance[(from_node, to_node)] = distance"
   ]
  },
  {
   "cell_type": "code",
   "execution_count": 192,
   "metadata": {},
   "outputs": [],
   "source": [
    "import numpy as np\n",
    "from collections import OrderedDict\n",
    "\n",
    "def martix_to_graph(mat):\n",
    "    \"\"\"\n",
    "        Turns a matrix into a graph with each element connect to the \n",
    "        one to the right and one below it. \n",
    "        \n",
    "        A graph is stored as an order dictionary, such that each node is a dictionary\n",
    "    \"\"\"\n",
    "    graph = Graph()\n",
    "    # First set up all the first element \n",
    "    for x in xrange(mat.shape[0]):\n",
    "        for y in xrange(mat.shape[1]):\n",
    "            graph.add_node((x,y))\n",
    "        \n",
    "    # Now create the connections \n",
    "    for x in xrange(mat.shape[0]-1):\n",
    "        for y in xrange(mat.shape[1]-1):\n",
    "            # Downward edges\n",
    "            graph.add_edge( (x,y),(x+1,y), mat[x+1,y])\n",
    "            graph.add_edge( (x,y),(x,y+1), mat[x,y+1])\n",
    "            \n",
    "            graph.add_edge( (x+1,y),(x,y), mat[x+1,y])\n",
    "            graph.add_edge( (x,y+1),(x,y), mat[x,y+1])\n",
    "    return graph"
   ]
  },
  {
   "cell_type": "markdown",
   "metadata": {},
   "source": [
    "Load the graph from the file"
   ]
  },
  {
   "cell_type": "code",
   "execution_count": 194,
   "metadata": {},
   "outputs": [],
   "source": [
    "test = np.array([[1,2,3],\n",
    "                [4,5,6]])\n",
    "mat   = np.loadtxt(\"matrix.txt\", delimiter=',')\n",
    "graph = martix_to_graph(test)"
   ]
  },
  {
   "cell_type": "markdown",
   "metadata": {},
   "source": [
    "## Dijkstra's Algorithm\n",
    "\n",
    "Let the node at which we are starting be called the initial node. Let the distance of node Y be the distance from the initial node to Y. Dijkstra's algorithm will assign some initial distance values and will try to improve them step by step.\n",
    "\n",
    "* Assign to every node a tentative distance value: set it to zero for our initial node and to infinity for all other nodes.\n",
    "\n",
    "\n",
    "* Set the initial node as current. Mark all other nodes unvisited. Create a set of all the unvisited nodes called the unvisited set.\n",
    "\n",
    "* For the current node, consider all of its neighbors and calculate their tentative distances. Compare the newly calculated tentative distance to the current assigned value and assign the smaller one. For example, if the current node A is marked with a distance of 6, and the edge connecting it with a neighbor B has length 2, then the distance to B (through A) will be 6 + 2 = 8. If B was previously marked with a distance greater than 8 then change it to 8. Otherwise, keep the current value.\n",
    "\n",
    "* When we are done considering all of the neighbors of the current node, mark the current node as visited and remove it from the unvisited set. A visited node will never be checked again.\n",
    "If the destination node has been marked visited (when planning a route between two specific nodes) or if the smallest tentative distance among the nodes in the unvisited set is infinity (when planning a complete traversal; occurs when there is no connection between the initial node and remaining unvisited nodes), then stop. The algorithm has finished.\n",
    "\n",
    "* Otherwise, select the unvisited node that is marked with the smallest tentative distance, set it as the new \"current node\", and go back to step 3.\n"
   ]
  },
  {
   "cell_type": "code",
   "execution_count": 214,
   "metadata": {
    "collapsed": true
   },
   "outputs": [],
   "source": [
    "from copy import copy\n",
    "\n",
    "def find_minimum_path(graph,start_node,final_node):\n",
    "    \"\"\"\"\"\"\n",
    "    visited = [] # The set of all nodes that have been visited \n",
    "    unvisted_nodes = {}\n",
    "    for node in graph.nodes:\n",
    "        unvisted_nodes[node] = 1e10\n",
    "    unvisted_nodes[start_node] = 0\n",
    "    \n",
    "    current_node = start_node \n",
    "    paths = defaultdict(list)\n",
    "    path_histories = []\n",
    "    \n",
    "    while unvisted_nodes:    \n",
    "        # Store what every tentative path looks like. \n",
    "        path_histories.append(paths)\n",
    "\n",
    "        # Add the current node to the path \n",
    "        paths[current_node].append(current_node)\n",
    "        \n",
    "        # Evaluate how far we have travelled \n",
    "        current_distance = unvisted_nodes[current_node] \n",
    "        \n",
    "        # Consider all neighbours connect - recall: \n",
    "        # edges is a dictionary of nodes and distances \n",
    "        for neighbour in graph.edges[current_node]:\n",
    "            # We never revist visited nodes\n",
    "            if neighbour in visited:\n",
    "                continue \n",
    "                \n",
    "            # Calculate the new distance this path would have  \n",
    "            tentative_distance = current_distance + graph.distance[(current_node,neighbour)]\n",
    "            if tentative_distance < unvisted_nodes[neighbour]:\n",
    "                paths[neighbour] = copy(paths[current_node])\n",
    "                paths[neighbour].append(neighbour)\n",
    "                unvisted_nodes[neighbour] = tentative_distance\n",
    "\n",
    "        # Now that we're done marking all neighbours\n",
    "        # remove the current node and progress along \n",
    "        del unvisted_nodes[current_node] \n",
    "        # Mark it as visited\n",
    "        visited.append(current_node)\n",
    "        # Move to the node with the smallest distance\n",
    "        current_node = min(unvisted_nodes, key=unvisted_nodes.get) \n",
    "\n",
    "        # If that node is the one\n",
    "        if current_node == final_node:\n",
    "            break\n",
    "\n",
    "    # Don't forget to update the total distsance with the distance to the final node        \n",
    "    current_distance += unvisted_nodes[final_node]\n",
    "    return paths[final_node],current_distance,paths,visited,path_histories"
   ]
  },
  {
   "cell_type": "code",
   "execution_count": 215,
   "metadata": {},
   "outputs": [
    {
     "name": "stdout",
     "output_type": "stream",
     "text": [
      "([(0, 0), (0, 1), (0, 1), (0, 2)], 9, defaultdict(<type 'list'>, {(0, 1): [(0, 0), (0, 1), (0, 1)], (1, 0): [(0, 0), (1, 0), (1, 0)], (0, 0): [(0, 0)], (1, 1): [(0, 0), (0, 1), (0, 1), (1, 1)], (0, 2): [(0, 0), (0, 1), (0, 1), (0, 2)]}), [(0, 0), (0, 1), (1, 0)], [defaultdict(<type 'list'>, {(0, 1): [(0, 0), (0, 1), (0, 1)], (1, 0): [(0, 0), (1, 0), (1, 0)], (0, 0): [(0, 0)], (1, 1): [(0, 0), (0, 1), (0, 1), (1, 1)], (0, 2): [(0, 0), (0, 1), (0, 1), (0, 2)]}), defaultdict(<type 'list'>, {(0, 1): [(0, 0), (0, 1), (0, 1)], (1, 0): [(0, 0), (1, 0), (1, 0)], (0, 0): [(0, 0)], (1, 1): [(0, 0), (0, 1), (0, 1), (1, 1)], (0, 2): [(0, 0), (0, 1), (0, 1), (0, 2)]}), defaultdict(<type 'list'>, {(0, 1): [(0, 0), (0, 1), (0, 1)], (1, 0): [(0, 0), (1, 0), (1, 0)], (0, 0): [(0, 0)], (1, 1): [(0, 0), (0, 1), (0, 1), (1, 1)], (0, 2): [(0, 0), (0, 1), (0, 1), (0, 2)]})])\n"
     ]
    }
   ],
   "source": [
    "print find_minimum_path(graph, (0,0),(0,2))"
   ]
  },
  {
   "cell_type": "code",
   "execution_count": 204,
   "metadata": {},
   "outputs": [
    {
     "name": "stdout",
     "output_type": "stream",
     "text": [
      "2\n"
     ]
    }
   ],
   "source": [
    "print graph.distance[((0,0),(0,1))]"
   ]
  },
  {
   "cell_type": "code",
   "execution_count": null,
   "metadata": {
    "collapsed": true
   },
   "outputs": [],
   "source": []
  }
 ],
 "metadata": {
  "kernelspec": {
   "display_name": "Python 2",
   "language": "python",
   "name": "python2"
  },
  "language_info": {
   "codemirror_mode": {
    "name": "ipython",
    "version": 2
   },
   "file_extension": ".py",
   "mimetype": "text/x-python",
   "name": "python",
   "nbconvert_exporter": "python",
   "pygments_lexer": "ipython2",
   "version": "2.7.14"
  }
 },
 "nbformat": 4,
 "nbformat_minor": 2
}

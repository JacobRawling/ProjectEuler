{
 "cells": [
  {
   "cell_type": "markdown",
   "metadata": {},
   "source": [
    "# Project 80: Path sum: two ways\n",
    "\n",
    "In a 5 by 5 matrix below, the minimal path sum from the top left to the bottom right, by only moving to the right and down, is the path with the lowest sum. \n",
    "\n",
    "Find the minimal path sum, in matrix.txt. As a 31K text file containing a 80 by 80 matrix, from the top left to the bottom right by only moving right and down."
   ]
  },
  {
   "cell_type": "markdown",
   "metadata": {},
   "source": [
    "# Solution\n",
    "\n",
    "This is an almost text book problem for Djikstra's algorithm. We can intrepret the element of each matrix as a node connected by uni-directional paths going right and down. The distance of each path is simply the value of the element it lands on. \n",
    "\n",
    "A final consideration is that of the 00 element, i.e top-left. This is an additional value to add to the length of the path calculated to Djikstra's algorithm. "
   ]
  },
  {
   "cell_type": "code",
   "execution_count": 136,
   "metadata": {},
   "outputs": [],
   "source": [
    "from collections import defaultdict\n",
    "\n",
    "class Graph:\n",
    "    def __init__(self):\n",
    "        self.nodes = set()\n",
    "        self.edges = defaultdict(list)\n",
    "        self.distance = {}\n",
    "\n",
    "    def add_node(self, value):\n",
    "        self.nodes.add(value)\n",
    "\n",
    "    def add_edge(self, from_node, to_node, distance):\n",
    "        assert from_node in self.nodes, \"ERROR: starting value must be a node. \"\n",
    "        assert to_node in self.nodes, \"ERROR: starting value must be a node. \"\n",
    "\n",
    "        self.edges[from_node].append(to_node)\n",
    "        self.distance[(from_node, to_node)] = distance"
   ]
  },
  {
   "cell_type": "code",
   "execution_count": 324,
   "metadata": {},
   "outputs": [
    {
     "name": "stdout",
     "output_type": "stream",
     "text": [
      "\n"
     ]
    }
   ],
   "source": [
    "import numpy as np\n",
    "from collections import OrderedDict\n",
    "\n",
    "def martix_to_graph(mat):\n",
    "    \"\"\"\n",
    "        Turns a matrix into a graph with each element connect to the \n",
    "        one to the right and one below it. \n",
    "        \n",
    "        A graph is stored as an order dictionary, such that each node is a dictionary\n",
    "    \"\"\"\n",
    "    graph = Graph()\n",
    "    # First set up all the first element \n",
    "    for y in xrange(mat.shape[0]):\n",
    "        for x in xrange(mat.shape[1]):\n",
    "            print \"Adding node (y,x) = : \", (y,x), \" = \", mat[(y,x)]\n",
    "            graph.add_node((y,x))\n",
    "        \n",
    "    # Now create the connections \n",
    "    for y in xrange(mat.shape[0]):\n",
    "        for x in xrange(mat.shape[1]):\n",
    "            # Downward and rightward only, we can \n",
    "            # never go back upon ourselves\n",
    "            if x < mat.shape[1]-1:\n",
    "                graph.add_edge( (y,x),(y,x+1), mat[y,x+1])\n",
    "                print \"Adding deg: \", (y,x), \" to \",(x+1,y), \" = \", mat[y,x+1] \n",
    "                print \"            \", mat[(y,x)], \" to \",mat[(y,x+1)], \" = \", mat[y,x+1] \n",
    "            if y < mat.shape[0]-1:\n",
    "                graph.add_edge( (y,x),(y+1,x), mat[y+1,x])\n",
    "                print \"Adding deg: \", (y,x), \" to \",(y+1,x), \" = \",mat[y+1,x] \n",
    "                print \"            \", mat[(y,x)], \" to \",mat[(y+1,x)], \" = \", mat[y+1,x] \n",
    "            \n",
    "    return graph"
   ]
  },
  {
   "cell_type": "markdown",
   "metadata": {},
   "source": [
    "Load the graph from the file"
   ]
  },
  {
   "cell_type": "code",
   "execution_count": 323,
   "metadata": {},
   "outputs": [
    {
     "name": "stdout",
     "output_type": "stream",
     "text": [
      "Adding node (y,x) = :  (0, 0)  =  131\n",
      "Adding node (y,x) = :  (0, 1)  =  673\n",
      "Adding node (y,x) = :  (0, 2)  =  234\n",
      "Adding node (y,x) = :  (0, 3)  =  103\n",
      "Adding node (y,x) = :  (0, 4)  =  18\n",
      "Adding node (y,x) = :  (1, 0)  =  201\n",
      "Adding node (y,x) = :  (1, 1)  =  96\n",
      "Adding node (y,x) = :  (1, 2)  =  342\n",
      "Adding node (y,x) = :  (1, 3)  =  965\n",
      "Adding node (y,x) = :  (1, 4)  =  150\n",
      "Adding node (y,x) = :  (2, 0)  =  630\n",
      "Adding node (y,x) = :  (2, 1)  =  803\n",
      "Adding node (y,x) = :  (2, 2)  =  746\n",
      "Adding node (y,x) = :  (2, 3)  =  422\n",
      "Adding node (y,x) = :  (2, 4)  =  111\n",
      "Adding node (y,x) = :  (3, 0)  =  537\n",
      "Adding node (y,x) = :  (3, 1)  =  699\n",
      "Adding node (y,x) = :  (3, 2)  =  497\n",
      "Adding node (y,x) = :  (3, 3)  =  121\n",
      "Adding node (y,x) = :  (3, 4)  =  956\n",
      "Adding node (y,x) = :  (4, 0)  =  805\n",
      "Adding node (y,x) = :  (4, 1)  =  732\n",
      "Adding node (y,x) = :  (4, 2)  =  524\n",
      "Adding node (y,x) = :  (4, 3)  =  37\n",
      "Adding node (y,x) = :  (4, 4)  =  331\n",
      "Adding deg:  (0, 0)  to  (1, 0)  =  673\n",
      "             131  to  673  =  673\n",
      "Adding deg:  (0, 0)  to  (1, 0)  =  201\n",
      "             131  to  201  =  201\n",
      "Adding deg:  (0, 1)  to  (2, 0)  =  234\n",
      "             673  to  234  =  234\n",
      "Adding deg:  (0, 1)  to  (1, 1)  =  96\n",
      "             673  to  96  =  96\n",
      "Adding deg:  (0, 2)  to  (3, 0)  =  103\n",
      "             234  to  103  =  103\n",
      "Adding deg:  (0, 2)  to  (1, 2)  =  342\n",
      "             234  to  342  =  342\n",
      "Adding deg:  (0, 3)  to  (4, 0)  =  18\n",
      "             103  to  18  =  18\n",
      "Adding deg:  (0, 3)  to  (1, 3)  =  965\n",
      "             103  to  965  =  965\n",
      "Adding deg:  (0, 4)  to  (5, 0)  = "
     ]
    },
    {
     "ename": "IndexError",
     "evalue": "index 5 is out of bounds for axis 1 with size 5",
     "output_type": "error",
     "traceback": [
      "\u001b[0;31m---------------------------------------------------------------------------\u001b[0m",
      "\u001b[0;31mIndexError\u001b[0m                                Traceback (most recent call last)",
      "\u001b[0;32m<ipython-input-323-02df690ddf43>\u001b[0m in \u001b[0;36m<module>\u001b[0;34m()\u001b[0m\n\u001b[1;32m      6\u001b[0m                  ])\n\u001b[1;32m      7\u001b[0m \u001b[0;31m# mat   = np.loadtxt(\"matrix.txt\", delimiter=',')\u001b[0m\u001b[0;34m\u001b[0m\u001b[0;34m\u001b[0m\u001b[0m\n\u001b[0;32m----> 8\u001b[0;31m \u001b[0mgraph\u001b[0m \u001b[0;34m=\u001b[0m \u001b[0mmartix_to_graph\u001b[0m\u001b[0;34m(\u001b[0m\u001b[0mtest\u001b[0m\u001b[0;34m)\u001b[0m\u001b[0;34m\u001b[0m\u001b[0m\n\u001b[0m",
      "\u001b[0;32m<ipython-input-322-680c5e0e0261>\u001b[0m in \u001b[0;36mmartix_to_graph\u001b[0;34m(mat)\u001b[0m\n\u001b[1;32m     23\u001b[0m             \u001b[0;32mif\u001b[0m \u001b[0mx\u001b[0m \u001b[0;34m<\u001b[0m \u001b[0mmat\u001b[0m\u001b[0;34m.\u001b[0m\u001b[0mshape\u001b[0m\u001b[0;34m[\u001b[0m\u001b[0;36m1\u001b[0m\u001b[0;34m]\u001b[0m\u001b[0;34m-\u001b[0m\u001b[0;36m1\u001b[0m\u001b[0;34m:\u001b[0m\u001b[0;34m\u001b[0m\u001b[0m\n\u001b[1;32m     24\u001b[0m                 \u001b[0mgraph\u001b[0m\u001b[0;34m.\u001b[0m\u001b[0madd_edge\u001b[0m\u001b[0;34m(\u001b[0m \u001b[0;34m(\u001b[0m\u001b[0my\u001b[0m\u001b[0;34m,\u001b[0m\u001b[0mx\u001b[0m\u001b[0;34m)\u001b[0m\u001b[0;34m,\u001b[0m\u001b[0;34m(\u001b[0m\u001b[0my\u001b[0m\u001b[0;34m,\u001b[0m\u001b[0mx\u001b[0m\u001b[0;34m+\u001b[0m\u001b[0;36m1\u001b[0m\u001b[0;34m)\u001b[0m\u001b[0;34m,\u001b[0m \u001b[0mmat\u001b[0m\u001b[0;34m[\u001b[0m\u001b[0my\u001b[0m\u001b[0;34m,\u001b[0m\u001b[0mx\u001b[0m\u001b[0;34m+\u001b[0m\u001b[0;36m1\u001b[0m\u001b[0;34m]\u001b[0m\u001b[0;34m)\u001b[0m\u001b[0;34m\u001b[0m\u001b[0m\n\u001b[0;32m---> 25\u001b[0;31m             \u001b[0;32mprint\u001b[0m \u001b[0;34m\"Adding deg: \"\u001b[0m\u001b[0;34m,\u001b[0m \u001b[0;34m(\u001b[0m\u001b[0my\u001b[0m\u001b[0;34m,\u001b[0m\u001b[0mx\u001b[0m\u001b[0;34m)\u001b[0m\u001b[0;34m,\u001b[0m \u001b[0;34m\" to \"\u001b[0m\u001b[0;34m,\u001b[0m\u001b[0;34m(\u001b[0m\u001b[0mx\u001b[0m\u001b[0;34m+\u001b[0m\u001b[0;36m1\u001b[0m\u001b[0;34m,\u001b[0m\u001b[0my\u001b[0m\u001b[0;34m)\u001b[0m\u001b[0;34m,\u001b[0m \u001b[0;34m\" = \"\u001b[0m\u001b[0;34m,\u001b[0m \u001b[0mmat\u001b[0m\u001b[0;34m[\u001b[0m\u001b[0my\u001b[0m\u001b[0;34m,\u001b[0m\u001b[0mx\u001b[0m\u001b[0;34m+\u001b[0m\u001b[0;36m1\u001b[0m\u001b[0;34m]\u001b[0m\u001b[0;34m\u001b[0m\u001b[0m\n\u001b[0m\u001b[1;32m     26\u001b[0m             \u001b[0;32mprint\u001b[0m \u001b[0;34m\"            \"\u001b[0m\u001b[0;34m,\u001b[0m \u001b[0mmat\u001b[0m\u001b[0;34m[\u001b[0m\u001b[0;34m(\u001b[0m\u001b[0my\u001b[0m\u001b[0;34m,\u001b[0m\u001b[0mx\u001b[0m\u001b[0;34m)\u001b[0m\u001b[0;34m]\u001b[0m\u001b[0;34m,\u001b[0m \u001b[0;34m\" to \"\u001b[0m\u001b[0;34m,\u001b[0m\u001b[0mmat\u001b[0m\u001b[0;34m[\u001b[0m\u001b[0;34m(\u001b[0m\u001b[0my\u001b[0m\u001b[0;34m,\u001b[0m\u001b[0mx\u001b[0m\u001b[0;34m+\u001b[0m\u001b[0;36m1\u001b[0m\u001b[0;34m)\u001b[0m\u001b[0;34m]\u001b[0m\u001b[0;34m,\u001b[0m \u001b[0;34m\" = \"\u001b[0m\u001b[0;34m,\u001b[0m \u001b[0mmat\u001b[0m\u001b[0;34m[\u001b[0m\u001b[0my\u001b[0m\u001b[0;34m,\u001b[0m\u001b[0mx\u001b[0m\u001b[0;34m+\u001b[0m\u001b[0;36m1\u001b[0m\u001b[0;34m]\u001b[0m\u001b[0;34m\u001b[0m\u001b[0m\n\u001b[1;32m     27\u001b[0m             \u001b[0;32mif\u001b[0m \u001b[0my\u001b[0m \u001b[0;34m<\u001b[0m \u001b[0mmat\u001b[0m\u001b[0;34m.\u001b[0m\u001b[0mshape\u001b[0m\u001b[0;34m[\u001b[0m\u001b[0;36m0\u001b[0m\u001b[0;34m]\u001b[0m\u001b[0;34m-\u001b[0m\u001b[0;36m1\u001b[0m\u001b[0;34m:\u001b[0m\u001b[0;34m\u001b[0m\u001b[0m\n",
      "\u001b[0;31mIndexError\u001b[0m: index 5 is out of bounds for axis 1 with size 5"
     ]
    }
   ],
   "source": [
    "test = np.array([[131,673,234,103,18],\n",
    "                 [201,96,342,965,150],\n",
    "                 [630,803,746,422,111],\n",
    "                 [537,699,497,121,956],\n",
    "                 [805,732,524,37,331]\n",
    "                 ])\n",
    "# mat   = np.loadtxt(\"matrix.txt\", delimiter=',')\n",
    "graph = martix_to_graph(test)"
   ]
  },
  {
   "cell_type": "markdown",
   "metadata": {},
   "source": [
    "## Dijkstra's Algorithm\n",
    "\n",
    "Let the node at which we are starting be called the initial node. Let the distance of node Y be the distance from the initial node to Y. Dijkstra's algorithm will assign some initial distance values and will try to improve them step by step.\n",
    "\n",
    "* Assign to every node a tentative distance value: set it to zero for our initial node and to infinity for all other nodes.\n",
    "\n",
    "\n",
    "* Set the initial node as current. Mark all other nodes unvisited. Create a set of all the unvisited nodes called the unvisited set.\n",
    "\n",
    "* For the current node, consider all of its neighbors and calculate their tentative distances. Compare the newly calculated tentative distance to the current assigned value and assign the smaller one. For example, if the current node A is marked with a distance of 6, and the edge connecting it with a neighbor B has length 2, then the distance to B (through A) will be 6 + 2 = 8. If B was previously marked with a distance greater than 8 then change it to 8. Otherwise, keep the current value.\n",
    "\n",
    "* When we are done considering all of the neighbors of the current node, mark the current node as visited and remove it from the unvisited set. A visited node will never be checked again.\n",
    "If the destination node has been marked visited (when planning a route between two specific nodes) or if the smallest tentative distance among the nodes in the unvisited set is infinity (when planning a complete traversal; occurs when there is no connection between the initial node and remaining unvisited nodes), then stop. The algorithm has finished.\n",
    "\n",
    "* Otherwise, select the unvisited node that is marked with the smallest tentative distance, set it as the new \"current node\", and go back to step 3.\n"
   ]
  },
  {
   "cell_type": "code",
   "execution_count": 313,
   "metadata": {},
   "outputs": [],
   "source": [
    "from copy import copy\n",
    "\n",
    "def find_minimum_path(graph,start_node,final_node):\n",
    "    \"\"\"\"\"\"\n",
    "    visited = [] # The set of all nodes that have been visited \n",
    "    unvisted_nodes = {}\n",
    "    for node in graph.nodes:\n",
    "        unvisted_nodes[node] = 1e10\n",
    "    unvisted_nodes[start_node] = 0\n",
    "    \n",
    "    current_node = start_node \n",
    "    paths = defaultdict(list)\n",
    "    path_histories = []\n",
    "    paths[current_node] = [current_node ]\n",
    "    \n",
    "    while unvisted_nodes:    \n",
    "        # Add the current node to the path \n",
    "        if paths[current_node][-1] != current_node:\n",
    "            paths[current_node].append(current_node)\n",
    "    \n",
    "        # Store what every tentative path looks like. \n",
    "        path_histories.append(paths)\n",
    "    \n",
    "        # Evaluate how far we have travelled \n",
    "        current_distance = unvisted_nodes[current_node] \n",
    "        \n",
    "        # If that node is the finial one then let's leave\n",
    "        if current_node == final_node:\n",
    "            break\n",
    "        \n",
    "        # Consider all neighbours connect - recall: \n",
    "        # edges is a dictionary of nodes and distances \n",
    "        for neighbour in graph.edges[current_node]:\n",
    "            # We never revist visited nodes\n",
    "            if neighbour in visited:\n",
    "                continue \n",
    "                \n",
    "            # Calculate the new distance this path would have  \n",
    "            tentative_distance = current_distance + graph.distance[(current_node,neighbour)]\n",
    "            if tentative_distance < unvisted_nodes[neighbour]:\n",
    "                paths[neighbour] = copy(paths[current_node])\n",
    "                paths[neighbour].append(neighbour)\n",
    "                print  paths[neighbour]\n",
    "                unvisted_nodes[neighbour] = tentative_distance\n",
    "\n",
    "        # Now that we're done marking all neighbours\n",
    "        # remove the current node and progress along \n",
    "        del unvisted_nodes[current_node] \n",
    "        # Mark it as visited\n",
    "        visited.append(current_node)\n",
    "        # Move to the node with the smallest distance\n",
    "        current_node = min(unvisted_nodes, key=unvisted_nodes.get) \n",
    "        if current_node == final_node:\n",
    "            break\n",
    "\n",
    "    # Don't forget to update the total distsance with the distance to the final node        \n",
    "    return paths[final_node],current_distance,paths,visited,path_histories"
   ]
  },
  {
   "cell_type": "code",
   "execution_count": 317,
   "metadata": {},
   "outputs": [
    {
     "name": "stdout",
     "output_type": "stream",
     "text": [
      "[(0, 0), (0, 1)]\n",
      "[(0, 0), (1, 0)]\n",
      "[(0, 0), (1, 0), (1, 1)]\n",
      "[(0, 0), (1, 0), (2, 0)]\n",
      "[(0, 0), (1, 0), (1, 1), (1, 2)]\n",
      "[(0, 0), (1, 0), (1, 1), (2, 1)]\n",
      "[(0, 0), (1, 0), (1, 1), (1, 2), (1, 3)]\n",
      "[(0, 0), (1, 0), (1, 1), (1, 2), (2, 2)]\n",
      "[(0, 0), (0, 1), (0, 2)]\n",
      "[(0, 0), (1, 0), (2, 0), (3, 0)]\n",
      "[(0, 0), (0, 1), (0, 2), (0, 3)]\n",
      "[(0, 0), (0, 1), (0, 2), (0, 3), (0, 4)]\n",
      "[(0, 0), (1, 0), (1, 1), (2, 1), (3, 1)]\n",
      "[(0, 0), (1, 0), (2, 0), (3, 0), (4, 0)]\n",
      "[(0, 0), (1, 0), (1, 1), (1, 2), (2, 2), (2, 3)]\n",
      "[(0, 0), (1, 0), (1, 1), (1, 2), (2, 2), (3, 2)]\n",
      "[(0, 0), (1, 0), (1, 1), (1, 2), (1, 3), (1, 4)]\n",
      "[(0, 0), (1, 0), (1, 1), (2, 1), (3, 1), (4, 1)]\n",
      "[(0, 0), (1, 0), (1, 1), (1, 2), (2, 2), (2, 3), (2, 4)]\n",
      "[(0, 0), (1, 0), (1, 1), (1, 2), (2, 2), (2, 3), (3, 3)]\n",
      "[(0, 0), (1, 0), (1, 1), (1, 2), (2, 2), (3, 2), (4, 2)]\n",
      "[(0, 0), (1, 0), (1, 1), (1, 2), (2, 2), (2, 3), (3, 3), (3, 4)]\n",
      "[(0, 0), (1, 0), (1, 1), (1, 2), (2, 2), (2, 3), (3, 3), (4, 3)]\n",
      "[]\n",
      "2884\n",
      "0\n"
     ]
    }
   ],
   "source": [
    "path,total_dist,paths,visited,path_histories =  find_minimum_path(graph, (0,0),(4,4))\n",
    "print path\n",
    "print total_dist\n",
    "\n",
    "sum = 0\n",
    "for node in path:\n",
    "    sum += mat[node]\n",
    "    print mat[node]\n",
    "print sum"
   ]
  },
  {
   "cell_type": "code",
   "execution_count": 318,
   "metadata": {},
   "outputs": [
    {
     "name": "stdout",
     "output_type": "stream",
     "text": [
      "{((2, 1), (3, 1)): 699, ((0, 2), (1, 2)): 342, ((1, 0), (2, 0)): 630, ((1, 1), (2, 1)): 803, ((2, 0), (2, 1)): 803, ((3, 3), (3, 4)): 956, ((1, 2), (2, 2)): 746, ((2, 3), (2, 4)): 111, ((2, 1), (2, 2)): 746, ((3, 0), (3, 1)): 699, ((0, 3), (1, 3)): 965, ((2, 2), (2, 3)): 422, ((2, 3), (3, 3)): 121, ((1, 2), (1, 3)): 965, ((0, 1), (1, 1)): 96, ((3, 1), (3, 2)): 497, ((1, 0), (1, 1)): 96, ((3, 1), (4, 1)): 732, ((1, 1), (1, 2)): 342, ((3, 3), (4, 3)): 37, ((2, 2), (3, 2)): 497, ((0, 0), (1, 0)): 201, ((3, 2), (3, 3)): 121, ((1, 3), (1, 4)): 150, ((2, 0), (3, 0)): 537, ((0, 0), (0, 1)): 673, ((1, 3), (2, 3)): 422, ((3, 0), (4, 0)): 805, ((0, 3), (0, 4)): 18, ((3, 2), (4, 2)): 524, ((0, 1), (0, 2)): 234, ((0, 2), (0, 3)): 103}\n"
     ]
    }
   ],
   "source": [
    "print graph.distance#[((3,4),(4,4))]"
   ]
  },
  {
   "cell_type": "markdown",
   "metadata": {},
   "source": [
    "### "
   ]
  },
  {
   "cell_type": "code",
   "execution_count": null,
   "metadata": {
    "collapsed": true
   },
   "outputs": [],
   "source": []
  }
 ],
 "metadata": {
  "kernelspec": {
   "display_name": "Python 2",
   "language": "python",
   "name": "python2"
  },
  "language_info": {
   "codemirror_mode": {
    "name": "ipython",
    "version": 2
   },
   "file_extension": ".py",
   "mimetype": "text/x-python",
   "name": "python",
   "nbconvert_exporter": "python",
   "pygments_lexer": "ipython2",
   "version": "2.7.14"
  }
 },
 "nbformat": 4,
 "nbformat_minor": 2
}

{
 "cells": [
  {
   "cell_type": "markdown",
   "metadata": {},
   "source": [
    "# Problem 4: Largest palindrome product\n",
    "A palindromic number reads the same both ways. The largest palindrome made from the product of two 2-digit numbers is 9009 = 91 × 99.\n",
    "\n",
    "Find the largest palindrome made from the product of two 3-digit numbers."
   ]
  },
  {
   "cell_type": "markdown",
   "metadata": {},
   "source": [
    "# Solution\n",
    "\n",
    "We'll begin by a slow and inefficient method, that does the following:\n",
    " 1. Go backward through all 3 digit numbers\n",
    " 2. Check if product is a palindrone \n",
    " 3. Done\n",
    " \n",
    "I am sure some simple maths will provide us with either an analytic solution or a highly optimized version, but let's get a baselien working version first"
   ]
  },
  {
   "cell_type": "code",
   "execution_count": 96,
   "metadata": {},
   "outputs": [],
   "source": [
    "import numpy as np\n",
    "def largest_palindrome(n_digits):\n",
    "    \"\"\"\n",
    "        Evaluates the two largest numbers that when multipled result \n",
    "        in a palindromic number. \n",
    "        \n",
    "    \"\"\"\n",
    "    # Cycle backwards through the all the possible n digit combination \n",
    "    # of numbers and store they're palindromes \n",
    "    pals = []\n",
    "    for n in xrange(10**(n_digits)-1,10**(n_digits-1),-1):\n",
    "        for m in xrange(10**(n_digits)-1,10**(n_digits-1),-1):\n",
    "            if is_palindrome(n*m):\n",
    "                pals.append(n*m)\n",
    "                # Failed to find two products \n",
    "    return np.max(pals) #[-1,-1]\n",
    "        \n",
    "from math import log10,floor\n",
    "def parse_integer(n):\n",
    "    \"\"\"\n",
    "        Splits an integer n into it's base 10^i components \n",
    "        e.g 4321 -> [4,3,2,1]\n",
    "    \"\"\"\n",
    "    cols = []\n",
    "    for i in xrange(1,int(floor(log10(n))+2),1):\n",
    "        cols.append(n%10**i/10**(i-1))\n",
    "        n = n - cols[-1]\n",
    "    cols.reverse()\n",
    "    return cols\n",
    "\n",
    "import copy \n",
    "def is_palindrome(n):\n",
    "    components = parse_integer(n)\n",
    "    components_rev = copy.copy(components)\n",
    "    components_rev.reverse()\n",
    "\n",
    "    for i,j in zip(components,components_rev):\n",
    "        if i != j:\n",
    "            return False\n",
    "    return True\n",
    "\n",
    "# Put a test int to check that we're working\n",
    "# assert largest_palindrome(2) == [99,91], \"The largest palindrome function failed to pass the basic sanity check!\""
   ]
  },
  {
   "cell_type": "code",
   "execution_count": 97,
   "metadata": {},
   "outputs": [
    {
     "name": "stdout",
     "output_type": "stream",
     "text": [
      "906609\n",
      "CPU times: user 2 µs, sys: 0 ns, total: 2 µs\n",
      "Wall time: 5.01 µs\n"
     ]
    }
   ],
   "source": [
    "print largest_palindrome(3)\n",
    "%time"
   ]
  }
 ],
 "metadata": {
  "kernelspec": {
   "display_name": "Python 2",
   "language": "python",
   "name": "python2"
  },
  "language_info": {
   "codemirror_mode": {
    "name": "ipython",
    "version": 2
   },
   "file_extension": ".py",
   "mimetype": "text/x-python",
   "name": "python",
   "nbconvert_exporter": "python",
   "pygments_lexer": "ipython2",
   "version": "2.7.14"
  }
 },
 "nbformat": 4,
 "nbformat_minor": 2
}
